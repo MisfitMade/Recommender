{
 "cells": [
  {
   "cell_type": "code",
   "execution_count": 1,
   "metadata": {},
   "outputs": [],
   "source": [
    "%load_ext autoreload\n",
    "%autoreload 2\n",
    "\n",
    "# These importing lines pull in the Recommender_Lib from folders above this file\n",
    "from DataAugmentation_Lib import *\n",
    "\n",
    "# These importing lines pull in env installed libs\n",
    "import json\n",
    "import pandas as pd\n",
    "import numpy as np"
   ]
  },
  {
   "cell_type": "code",
   "execution_count": 2,
   "metadata": {},
   "outputs": [],
   "source": [
    "# First, make sure the data we want exists. If not, download from google drive\n",
    "R_Lib.verify_raw_data_exists()\n",
    "movies_df, users_df, ratings_df = R_Lib.read_raw_data()"
   ]
  },
  {
   "cell_type": "code",
   "execution_count": 4,
   "metadata": {},
   "outputs": [
    {
     "data": {
      "text/html": [
       "<div>\n",
       "<style scoped>\n",
       "    .dataframe tbody tr th:only-of-type {\n",
       "        vertical-align: middle;\n",
       "    }\n",
       "\n",
       "    .dataframe tbody tr th {\n",
       "        vertical-align: top;\n",
       "    }\n",
       "\n",
       "    .dataframe thead th {\n",
       "        text-align: right;\n",
       "    }\n",
       "</style>\n",
       "<table border=\"1\" class=\"dataframe\">\n",
       "  <thead>\n",
       "    <tr style=\"text-align: right;\">\n",
       "      <th></th>\n",
       "      <th>movieId</th>\n",
       "    </tr>\n",
       "  </thead>\n",
       "  <tbody>\n",
       "    <tr>\n",
       "      <th>count</th>\n",
       "      <td>62967.000000</td>\n",
       "    </tr>\n",
       "    <tr>\n",
       "      <th>mean</th>\n",
       "      <td>122989.599092</td>\n",
       "    </tr>\n",
       "    <tr>\n",
       "      <th>std</th>\n",
       "      <td>63527.601173</td>\n",
       "    </tr>\n",
       "    <tr>\n",
       "      <th>min</th>\n",
       "      <td>1.000000</td>\n",
       "    </tr>\n",
       "    <tr>\n",
       "      <th>25%</th>\n",
       "      <td>82916.000000</td>\n",
       "    </tr>\n",
       "    <tr>\n",
       "      <th>50%</th>\n",
       "      <td>138719.000000</td>\n",
       "    </tr>\n",
       "    <tr>\n",
       "      <th>75%</th>\n",
       "      <td>174066.000000</td>\n",
       "    </tr>\n",
       "    <tr>\n",
       "      <th>max</th>\n",
       "      <td>213111.000000</td>\n",
       "    </tr>\n",
       "  </tbody>\n",
       "</table>\n",
       "</div>"
      ],
      "text/plain": [
       "             movieId\n",
       "count   62967.000000\n",
       "mean   122989.599092\n",
       "std     63527.601173\n",
       "min         1.000000\n",
       "25%     82916.000000\n",
       "50%    138719.000000\n",
       "75%    174066.000000\n",
       "max    213111.000000"
      ]
     },
     "execution_count": 4,
     "metadata": {},
     "output_type": "execute_result"
    }
   ],
   "source": [
    "movies_df.describe()"
   ]
  },
  {
   "cell_type": "code",
   "execution_count": 5,
   "metadata": {},
   "outputs": [
    {
     "data": {
      "text/html": [
       "<div>\n",
       "<style scoped>\n",
       "    .dataframe tbody tr th:only-of-type {\n",
       "        vertical-align: middle;\n",
       "    }\n",
       "\n",
       "    .dataframe tbody tr th {\n",
       "        vertical-align: top;\n",
       "    }\n",
       "\n",
       "    .dataframe thead th {\n",
       "        text-align: right;\n",
       "    }\n",
       "</style>\n",
       "<table border=\"1\" class=\"dataframe\">\n",
       "  <thead>\n",
       "    <tr style=\"text-align: right;\">\n",
       "      <th></th>\n",
       "      <th>userId</th>\n",
       "      <th>gender</th>\n",
       "      <th>age</th>\n",
       "      <th>occupation</th>\n",
       "      <th>zip-code</th>\n",
       "    </tr>\n",
       "  </thead>\n",
       "  <tbody>\n",
       "    <tr>\n",
       "      <th>count</th>\n",
       "      <td>168581.000000</td>\n",
       "      <td>168581.000000</td>\n",
       "      <td>168581.000000</td>\n",
       "      <td>168581.000000</td>\n",
       "      <td>1.685810e+05</td>\n",
       "    </tr>\n",
       "    <tr>\n",
       "      <th>mean</th>\n",
       "      <td>84291.000000</td>\n",
       "      <td>-0.979725</td>\n",
       "      <td>1.097757</td>\n",
       "      <td>0.291889</td>\n",
       "      <td>3.138246e+03</td>\n",
       "    </tr>\n",
       "    <tr>\n",
       "      <th>std</th>\n",
       "      <td>48665.287202</td>\n",
       "      <td>0.200348</td>\n",
       "      <td>6.195732</td>\n",
       "      <td>1.930790</td>\n",
       "      <td>4.707669e+05</td>\n",
       "    </tr>\n",
       "    <tr>\n",
       "      <th>min</th>\n",
       "      <td>1.000000</td>\n",
       "      <td>-1.000000</td>\n",
       "      <td>0.000000</td>\n",
       "      <td>0.000000</td>\n",
       "      <td>0.000000e+00</td>\n",
       "    </tr>\n",
       "    <tr>\n",
       "      <th>25%</th>\n",
       "      <td>42146.000000</td>\n",
       "      <td>-1.000000</td>\n",
       "      <td>0.000000</td>\n",
       "      <td>0.000000</td>\n",
       "      <td>0.000000e+00</td>\n",
       "    </tr>\n",
       "    <tr>\n",
       "      <th>50%</th>\n",
       "      <td>84291.000000</td>\n",
       "      <td>-1.000000</td>\n",
       "      <td>0.000000</td>\n",
       "      <td>0.000000</td>\n",
       "      <td>0.000000e+00</td>\n",
       "    </tr>\n",
       "    <tr>\n",
       "      <th>75%</th>\n",
       "      <td>126436.000000</td>\n",
       "      <td>-1.000000</td>\n",
       "      <td>0.000000</td>\n",
       "      <td>0.000000</td>\n",
       "      <td>0.000000e+00</td>\n",
       "    </tr>\n",
       "    <tr>\n",
       "      <th>max</th>\n",
       "      <td>168581.000000</td>\n",
       "      <td>1.000000</td>\n",
       "      <td>56.000000</td>\n",
       "      <td>20.000000</td>\n",
       "      <td>1.931220e+08</td>\n",
       "    </tr>\n",
       "  </tbody>\n",
       "</table>\n",
       "</div>"
      ],
      "text/plain": [
       "              userId         gender            age     occupation  \\\n",
       "count  168581.000000  168581.000000  168581.000000  168581.000000   \n",
       "mean    84291.000000      -0.979725       1.097757       0.291889   \n",
       "std     48665.287202       0.200348       6.195732       1.930790   \n",
       "min         1.000000      -1.000000       0.000000       0.000000   \n",
       "25%     42146.000000      -1.000000       0.000000       0.000000   \n",
       "50%     84291.000000      -1.000000       0.000000       0.000000   \n",
       "75%    126436.000000      -1.000000       0.000000       0.000000   \n",
       "max    168581.000000       1.000000      56.000000      20.000000   \n",
       "\n",
       "           zip-code  \n",
       "count  1.685810e+05  \n",
       "mean   3.138246e+03  \n",
       "std    4.707669e+05  \n",
       "min    0.000000e+00  \n",
       "25%    0.000000e+00  \n",
       "50%    0.000000e+00  \n",
       "75%    0.000000e+00  \n",
       "max    1.931220e+08  "
      ]
     },
     "execution_count": 5,
     "metadata": {},
     "output_type": "execute_result"
    }
   ],
   "source": [
    "users_df.describe()"
   ]
  },
  {
   "cell_type": "code",
   "execution_count": 10,
   "metadata": {},
   "outputs": [
    {
     "data": {
      "text/plain": [
       "array([[<AxesSubplot: title={'center': 'gender'}>]], dtype=object)"
      ]
     },
     "execution_count": 10,
     "metadata": {},
     "output_type": "execute_result"
    },
    {
     "data": {
      "image/png": "[encoded data removed]",
      "text/plain": [
       "<Figure size 640x480 with 1 Axes>"
      ]
     },
     "metadata": {},
     "output_type": "display_data"
    }
   ],
   "source": [
    "# Can see that it is mostlty males who gave ratings (-1=M, 1=F)\n",
    "users_df.hist(column=R_Lib.MOVIE_LENS_1M_GENDER_COL, bins=2)"
   ]
  },
  {
   "cell_type": "code",
   "execution_count": 14,
   "metadata": {},
   "outputs": [
    {
     "data": {
      "text/plain": [
       "array([[<AxesSubplot: title={'center': 'age'}>]], dtype=object)"
      ]
     },
     "execution_count": 14,
     "metadata": {},
     "output_type": "execute_result"
    },
    {
     "data": {
      "image/png": "[encoded data removed]",
      "text/plain": [
       "<Figure size 640x480 with 1 Axes>"
      ]
     },
     "metadata": {},
     "output_type": "display_data"
    }
   ],
   "source": [
    "# Can see that it is mostly the 18 - 35 year old users\n",
    "users_df[users_df[R_Lib.MOVIE_LENS_1M_AGE_COL] > 0].hist(column=R_Lib.MOVIE_LENS_1M_AGE_COL)"
   ]
  },
  {
   "cell_type": "code",
   "execution_count": 16,
   "metadata": {},
   "outputs": [
    {
     "data": {
      "text/plain": [
       "array([[<AxesSubplot: title={'center': 'occupation'}>]], dtype=object)"
      ]
     },
     "execution_count": 16,
     "metadata": {},
     "output_type": "execute_result"
    },
    {
     "data": {
      "image/png": "[encoded data removed]",
      "text/plain": [
       "<Figure size 640x480 with 1 Axes>"
      ]
     },
     "metadata": {},
     "output_type": "display_data"
    }
   ],
   "source": [
    "# Can see that the most reported occupations are academic, artist, clerical/admin, college/gra student\n",
    "users_df[users_df[R_Lib.MOVIE_LENS_1M_OCCUPATION_COL] > 0].hist(column=R_Lib.MOVIE_LENS_1M_OCCUPATION_COL)"
   ]
  },
  {
   "cell_type": "code",
   "execution_count": 6,
   "metadata": {},
   "outputs": [
    {
     "data": {
      "text/html": [
       "<div>\n",
       "<style scoped>\n",
       "    .dataframe tbody tr th:only-of-type {\n",
       "        vertical-align: middle;\n",
       "    }\n",
       "\n",
       "    .dataframe tbody tr th {\n",
       "        vertical-align: top;\n",
       "    }\n",
       "\n",
       "    .dataframe thead th {\n",
       "        text-align: right;\n",
       "    }\n",
       "</style>\n",
       "<table border=\"1\" class=\"dataframe\">\n",
       "  <thead>\n",
       "    <tr style=\"text-align: right;\">\n",
       "      <th></th>\n",
       "      <th>userId</th>\n",
       "      <th>movieId</th>\n",
       "      <th>rating</th>\n",
       "      <th>timestamp</th>\n",
       "    </tr>\n",
       "  </thead>\n",
       "  <tbody>\n",
       "    <tr>\n",
       "      <th>count</th>\n",
       "      <td>2.600030e+07</td>\n",
       "      <td>2.600030e+07</td>\n",
       "      <td>2.600030e+07</td>\n",
       "      <td>2.600030e+07</td>\n",
       "    </tr>\n",
       "    <tr>\n",
       "      <th>mean</th>\n",
       "      <td>8.443516e+04</td>\n",
       "      <td>2.868360e+04</td>\n",
       "      <td>3.535690e+00</td>\n",
       "      <td>1.206240e+09</td>\n",
       "    </tr>\n",
       "    <tr>\n",
       "      <th>std</th>\n",
       "      <td>4.866921e+04</td>\n",
       "      <td>5.298928e+04</td>\n",
       "      <td>1.063007e+00</td>\n",
       "      <td>2.273518e+08</td>\n",
       "    </tr>\n",
       "    <tr>\n",
       "      <th>min</th>\n",
       "      <td>1.000000e+00</td>\n",
       "      <td>1.000000e+00</td>\n",
       "      <td>5.000000e-01</td>\n",
       "      <td>7.896520e+08</td>\n",
       "    </tr>\n",
       "    <tr>\n",
       "      <th>25%</th>\n",
       "      <td>4.212700e+04</td>\n",
       "      <td>1.208000e+03</td>\n",
       "      <td>3.000000e+00</td>\n",
       "      <td>9.926134e+08</td>\n",
       "    </tr>\n",
       "    <tr>\n",
       "      <th>50%</th>\n",
       "      <td>8.417200e+04</td>\n",
       "      <td>3.108000e+03</td>\n",
       "      <td>4.000000e+00</td>\n",
       "      <td>1.180298e+09</td>\n",
       "    </tr>\n",
       "    <tr>\n",
       "      <th>75%</th>\n",
       "      <td>1.266020e+05</td>\n",
       "      <td>3.316200e+04</td>\n",
       "      <td>4.000000e+00</td>\n",
       "      <td>1.444533e+09</td>\n",
       "    </tr>\n",
       "    <tr>\n",
       "      <th>max</th>\n",
       "      <td>1.685810e+05</td>\n",
       "      <td>2.131230e+05</td>\n",
       "      <td>5.000000e+00</td>\n",
       "      <td>1.574328e+09</td>\n",
       "    </tr>\n",
       "  </tbody>\n",
       "</table>\n",
       "</div>"
      ],
      "text/plain": [
       "             userId       movieId        rating     timestamp\n",
       "count  2.600030e+07  2.600030e+07  2.600030e+07  2.600030e+07\n",
       "mean   8.443516e+04  2.868360e+04  3.535690e+00  1.206240e+09\n",
       "std    4.866921e+04  5.298928e+04  1.063007e+00  2.273518e+08\n",
       "min    1.000000e+00  1.000000e+00  5.000000e-01  7.896520e+08\n",
       "25%    4.212700e+04  1.208000e+03  3.000000e+00  9.926134e+08\n",
       "50%    8.417200e+04  3.108000e+03  4.000000e+00  1.180298e+09\n",
       "75%    1.266020e+05  3.316200e+04  4.000000e+00  1.444533e+09\n",
       "max    1.685810e+05  2.131230e+05  5.000000e+00  1.574328e+09"
      ]
     },
     "execution_count": 6,
     "metadata": {},
     "output_type": "execute_result"
    }
   ],
   "source": [
    "ratings_df.describe()"
   ]
  },
  {
   "cell_type": "code",
   "execution_count": 9,
   "metadata": {},
   "outputs": [
    {
     "data": {
      "text/plain": [
       "array([[<AxesSubplot: title={'center': 'rating'}>]], dtype=object)"
      ]
     },
     "execution_count": 9,
     "metadata": {},
     "output_type": "execute_result"
    },
    {
     "data": {
      "image/png": "[encoded data removed]",
      "text/plain": [
       "<Figure size 640x480 with 1 Axes>"
      ]
     },
     "metadata": {},
     "output_type": "display_data"
    }
   ],
   "source": [
    "# Most ratings are 4\n",
    "ratings_df.hist(column=R_Lib.MOVIE_LENS_25M_RATING_COL)"
   ]
  },
  {
   "cell_type": "code",
   "execution_count": 18,
   "metadata": {},
   "outputs": [
    {
     "data": {
      "text/plain": [
       "array([[<AxesSubplot: title={'center': 'userId'}>]], dtype=object)"
      ]
     },
     "execution_count": 18,
     "metadata": {},
     "output_type": "execute_result"
    },
    {
     "data": {
      "image/png": "[encoded data removed]",
      "text/plain": [
       "<Figure size 640x480 with 1 Axes>"
      ]
     },
     "metadata": {},
     "output_type": "display_data"
    }
   ],
   "source": [
    "# Can see there is about the same amount of ratings for each of those who gave ratings.\n",
    "ratings_df.hist(column=R_Lib.MOVIE_LENS_25M_USER_ID_COL)"
   ]
  },
  {
   "cell_type": "code",
   "execution_count": null,
   "metadata": {},
   "outputs": [],
   "source": [
    "'''\n",
    "users_df comes back ready for being saved as a matrix, so save as a numpy.\n",
    "'''\n",
    "np.savez(R_Lib.PATH_TO_PROCESSED_USERS_DATA, users_matrix=users_df.to_numpy(dtype=np.int32))"
   ]
  },
  {
   "cell_type": "code",
   "execution_count": 3,
   "metadata": {},
   "outputs": [
    {
     "name": "stdout",
     "output_type": "stream",
     "text": [
      "Sparse row count =  0  and sparse col count =  0\n",
      "Total users:  168581 \n",
      "Total movies:  62967\n"
     ]
    }
   ],
   "source": [
    "'''\n",
    "Define some variables that will help us load stuff later and make decisions below\n",
    "'''\n",
    "total_users = users_df.shape[0]\n",
    "total_movies = movies_df.shape[0]\n",
    "reindexer = np.arange(1, total_users+1)\n",
    "'''\n",
    "Give a function to the SparseMatrixMaker to check for bad data so that if the ratings\n",
    "data matrix gets outof the range of the ratings numbers, 0.0 - 5.0, then an exception\n",
    "will throw, because something is broken.\n",
    "'''\n",
    "sparse_mat_maker = SparseMatrixMaker(bad_data_detector=(True, lambda d: d < 0.0 or d > 5.0))\n",
    "print(\"Total users: \", total_users, \"\\nTotal movies: \", total_movies)"
   ]
  },
  {
   "cell_type": "code",
   "execution_count": null,
   "metadata": {},
   "outputs": [],
   "source": [
    "'''\n",
    "Now we have 3 DFs, two of which correspond to user ratings: users_df, ratings_df. Lets combine them.\n",
    "We have movies_df, which has all the movie IDs, so make a column for each movie ID to users_df\n",
    "and include the rating if the user has rated it.\n",
    "It takes awhile to run, longer if you give it a quiet=False so that it reports progress\n",
    "to not appear stlled. After, save the sparse coords and data as a numpy.\n",
    "'''\n",
    "# The store_ratings_for_mov_id_as_sparse_coords method builds a sparse matrix\n",
    "# coordinates into 3 long arrays and those are saved to be loaded in later.\n",
    "# store_ratings_for_mov_id_as_sparse_coords just returns the movie_id it is given.\n",
    "movie_ids_series = movies_df[R_Lib.MOVIE_LENS_25M_MOVIE_ID_COL].map(\n",
    "    lambda movie_id: sparse_mat_maker.store_ratings_for_mov_id_as_sparse_coords(\n",
    "        movie_id,\n",
    "        ratings_df,\n",
    "        reindexer,\n",
    "        quiet=True))\n",
    "\n",
    "sparse_mat_maker.save_sparse_mat_coords(R_Lib.PATH_TO_PROCESSED_RATINGS_DATA)\n",
    "print(\"Finshed and saved ratings matrix.\")"
   ]
  },
  {
   "cell_type": "code",
   "execution_count": 4,
   "metadata": {},
   "outputs": [],
   "source": [
    "'''\n",
    "Iterate over the genres of each movie and get a one-hot encoding representation,\n",
    "then make it into a DF and concat the results to the end of the DF with the movie titles\n",
    "'''\n",
    "movies_df[R_Lib.MOVIE_LENS_25M_MOVIE_GENRES_COL] = movies_df[R_Lib.MOVIE_LENS_25M_MOVIE_GENRES_COL].map(\n",
    "    lambda gs: R_Lib.genres_to_one_hot(gs, '|', R_Lib.MOVIE_LENS_GENRES))"
   ]
  },
  {
   "cell_type": "code",
   "execution_count": 5,
   "metadata": {},
   "outputs": [],
   "source": [
    "''''\n",
    "The movie titles have years tacked on the ends of them, with some parenths.\n",
    "Take these off, then insert them as their own column of \"numbers\" for the matrix\n",
    "of numbers we are building.\n",
    "'''\n",
    "year_accumulator = []\n",
    "movies_df[R_Lib.MOVIE_LENS_25M_MOVIE_TITLE_COL] = movies_df[R_Lib.MOVIE_LENS_25M_MOVIE_TITLE_COL].apply(\n",
    "    lambda title: accumulate_year(year_accumulator, title))\n",
    "movies_df = pd.concat(\n",
    "    [movies_df, pd.DataFrame({YEAR_COL: year_accumulator})],\n",
    "    axis=1,\n",
    "    join=\"inner\")\n",
    "\n",
    "'''\n",
    "Found some bad chars in the year column of our movies_df.\n",
    "Filter these out manually so we have just a column of strings that can be converted to ints without issue.\n",
    "'''\n",
    "movies_df[YEAR_COL] = movies_df[YEAR_COL].map(lambda year: year.replace(\"L'Associe\", \"\"))\n",
    "movies_df[YEAR_COL] = movies_df[YEAR_COL].map(lambda year: year.replace(')', \"\"))\n",
    "movies_df[YEAR_COL] = movies_df[YEAR_COL].map(lambda year: year.replace('(', \"\"))\n",
    "movies_df[YEAR_COL] = movies_df[YEAR_COL].map(lambda year: year.split('-')[0])\n",
    "movies_df[YEAR_COL] = movies_df[YEAR_COL].map(lambda year: year.split('–')[0])"
   ]
  },
  {
   "cell_type": "code",
   "execution_count": 6,
   "metadata": {},
   "outputs": [],
   "source": [
    "'''\n",
    "Now we have to do some word embedding. Make a glove that was trained on Twitter object.\n",
    "First, make sure the data we want exists. If not, download from google drive.\n",
    "'''\n",
    "R_Lib.verify_glove_data_exists()\n",
    "embedded_vector_len = 25 # There is 25, 50, 100, 200\n",
    "glove = R_Lib.Glove(R_Lib.PATH_TO_GLOVE, embedded_vector_len)"
   ]
  },
  {
   "cell_type": "code",
   "execution_count": 7,
   "metadata": {},
   "outputs": [],
   "source": [
    "'''\n",
    "Now, need to inspect the tags, clean them so that they are only words seperated by spaces.\n",
    "Then, either throw out duplicate movie ID tags or combine all tags that are for the same movie id. \n",
    "Then find the tag with the most words and call that the number of vectors we need to make for each movie.\n",
    "'''\n",
    "tags_df = pd.read_csv(R_Lib.PATH_TO_MOVIE_LENS_25M_TAGS)\n",
    "tags_df[MOVIE_LENS_25M_TAG_COL] = tags_df[MOVIE_LENS_25M_TAG_COL].map(glove.clean_str)\n",
    "tags_df = tags_df.drop_duplicates(subset=[R_Lib.MOVIE_LENS_25M_MOVIE_ID_COL])"
   ]
  },
  {
   "cell_type": "code",
   "execution_count": 8,
   "metadata": {},
   "outputs": [
    {
     "data": {
      "text/plain": [
       "array([ 1,  2,  4,  3,  9,  6,  5, 15,  7, 16, 10,  8])"
      ]
     },
     "execution_count": 8,
     "metadata": {},
     "output_type": "execute_result"
    }
   ],
   "source": [
    "'''\n",
    "Find that there are some really long tags. Need to make an equal number of vectors for each movie.\n",
    "'''\n",
    "glove_vects_per_movie = tags_df[MOVIE_LENS_25M_TAG_COL].map(lambda tag: len(tag.split())).unique()\n",
    "glove_vects_per_movie"
   ]
  },
  {
   "cell_type": "code",
   "execution_count": 9,
   "metadata": {},
   "outputs": [],
   "source": [
    "'''\n",
    "Make a version of the tags where even movies without tags have a row that is just the empty string\n",
    "'''\n",
    "movie_id_reindexer = movies_df[R_Lib.MOVIE_LENS_25M_MOVIE_ID_COL].to_numpy()\n",
    "tags_df_mut = tags_df.set_index(R_Lib.MOVIE_LENS_25M_MOVIE_ID_COL)\n",
    "tags_df_mut = tags_df_mut.reindex(movie_id_reindexer, fill_value=\"\")"
   ]
  },
  {
   "cell_type": "code",
   "execution_count": 10,
   "metadata": {},
   "outputs": [],
   "source": [
    "'''\n",
    "Don't want to make so many glove embeddings, so will only embed the first certain number\n",
    "of tokens for those movies with tags.\n",
    "Embed the tag for each movie. Some of this is just embedding \"\", which will\n",
    "return an embedding of all 0s.\n",
    "'''\n",
    "num_of_toks_to_embed = 6\n",
    "embedded_col = tags_df_mut[MOVIE_LENS_25M_TAG_COL].map(lambda tag: glove.embed_str(tag, num_of_toks_to_embed))"
   ]
  },
  {
   "cell_type": "code",
   "execution_count": 11,
   "metadata": {},
   "outputs": [],
   "source": [
    "'''\n",
    "Tack it onto the end of the movies_df\n",
    "'''\n",
    "movies_df = movies_df.set_index(R_Lib.MOVIE_LENS_25M_MOVIE_ID_COL)\n",
    "movies_df = movies_df.join(embedded_col)"
   ]
  },
  {
   "cell_type": "code",
   "execution_count": 12,
   "metadata": {},
   "outputs": [],
   "source": [
    "'''\n",
    "Now clean and embed the movie titles\n",
    "'''\n",
    "movies_df[R_Lib.MOVIE_LENS_25M_MOVIE_TITLE_COL] = movies_df[R_Lib.MOVIE_LENS_25M_MOVIE_TITLE_COL].map(\n",
    "    glove.clean_str).map(lambda title: glove.embed_str(title, num_of_toks_to_embed))"
   ]
  },
  {
   "cell_type": "code",
   "execution_count": 13,
   "metadata": {},
   "outputs": [
    {
     "data": {
      "text/html": [
       "<div>\n",
       "<style scoped>\n",
       "    .dataframe tbody tr th:only-of-type {\n",
       "        vertical-align: middle;\n",
       "    }\n",
       "\n",
       "    .dataframe tbody tr th {\n",
       "        vertical-align: top;\n",
       "    }\n",
       "\n",
       "    .dataframe thead th {\n",
       "        text-align: right;\n",
       "    }\n",
       "</style>\n",
       "<table border=\"1\" class=\"dataframe\">\n",
       "  <thead>\n",
       "    <tr style=\"text-align: right;\">\n",
       "      <th></th>\n",
       "      <th>movieId</th>\n",
       "      <th>title</th>\n",
       "      <th>genres</th>\n",
       "      <th>year</th>\n",
       "      <th>tag</th>\n",
       "    </tr>\n",
       "  </thead>\n",
       "  <tbody>\n",
       "    <tr>\n",
       "      <th>0</th>\n",
       "      <td>1</td>\n",
       "      <td>[[-0.5956, -0.67774, 0.63825, -0.55081, 0.3310...</td>\n",
       "      <td>[0, 1, 1, 0, 1, 0, 0, 0, 1, 0, 0, 0, 0, 0, 0, ...</td>\n",
       "      <td>1995</td>\n",
       "      <td>[[-0.16845, 0.39337, 0.24115, -1.2381, 0.06361...</td>\n",
       "    </tr>\n",
       "    <tr>\n",
       "      <th>1</th>\n",
       "      <td>2</td>\n",
       "      <td>[[0.10984, -0.72454, 1.212, -0.16188, -0.77879...</td>\n",
       "      <td>[0, 1, 0, 0, 0, 0, 0, 0, 1, 0, 0, 0, 0, 0, 0, ...</td>\n",
       "      <td>1995</td>\n",
       "      <td>[[-0.36034, -0.16173, 0.52871, 0.1684, -1.0275...</td>\n",
       "    </tr>\n",
       "    <tr>\n",
       "      <th>2</th>\n",
       "      <td>3</td>\n",
       "      <td>[[-0.63078, 0.23414, 1.0839, -0.4605, 0.36985,...</td>\n",
       "      <td>[0, 0, 0, 0, 1, 0, 0, 0, 0, 0, 0, 0, 0, 1, 0, ...</td>\n",
       "      <td>1995</td>\n",
       "      <td>[[0.42466, -0.23493, 0.67394, -0.51295, 0.6706...</td>\n",
       "    </tr>\n",
       "    <tr>\n",
       "      <th>3</th>\n",
       "      <td>4</td>\n",
       "      <td>[[-0.94693, 1.202, 0.68523, -0.13582, -0.76029...</td>\n",
       "      <td>[0, 0, 0, 0, 1, 0, 0, 1, 0, 0, 0, 0, 0, 1, 0, ...</td>\n",
       "      <td>1995</td>\n",
       "      <td>[[0.57621, -0.0097165, -0.8488, -0.4566, 0.643...</td>\n",
       "    </tr>\n",
       "    <tr>\n",
       "      <th>4</th>\n",
       "      <td>5</td>\n",
       "      <td>[[-1.2006, 0.59454, 0.27821, 0.86424, 0.021296...</td>\n",
       "      <td>[0, 0, 0, 0, 1, 0, 0, 0, 0, 0, 0, 0, 0, 0, 0, ...</td>\n",
       "      <td>1995</td>\n",
       "      <td>[[-0.86323, -0.13674, -1.2718, 0.67397, 1.0864...</td>\n",
       "    </tr>\n",
       "    <tr>\n",
       "      <th>...</th>\n",
       "      <td>...</td>\n",
       "      <td>...</td>\n",
       "      <td>...</td>\n",
       "      <td>...</td>\n",
       "      <td>...</td>\n",
       "    </tr>\n",
       "    <tr>\n",
       "      <th>62962</th>\n",
       "      <td>213101</td>\n",
       "      <td>[[-0.95787, -1.298, 0.021577, 0.48332, 0.71122...</td>\n",
       "      <td>[0, 0, 0, 0, 0, 0, 0, 0, 0, 0, 1, 0, 0, 0, 0, ...</td>\n",
       "      <td>1954</td>\n",
       "      <td>[[0.0, 0.0, 0.0, 0.0, 0.0, 0.0, 0.0, 0.0, 0.0,...</td>\n",
       "    </tr>\n",
       "    <tr>\n",
       "      <th>62963</th>\n",
       "      <td>213106</td>\n",
       "      <td>[[-0.95826, 0.34048, 0.51397, -0.22547, -0.069...</td>\n",
       "      <td>[0, 0, 0, 0, 0, 0, 0, 0, 0, 0, 1, 0, 0, 0, 0, ...</td>\n",
       "      <td>1973</td>\n",
       "      <td>[[0.0, 0.0, 0.0, 0.0, 0.0, 0.0, 0.0, 0.0, 0.0,...</td>\n",
       "    </tr>\n",
       "    <tr>\n",
       "      <th>62964</th>\n",
       "      <td>213107</td>\n",
       "      <td>[[-0.42776, -0.097852, 0.54833, 0.20915, -0.18...</td>\n",
       "      <td>[0, 0, 0, 0, 0, 0, 0, 1, 0, 0, 0, 0, 0, 0, 0, ...</td>\n",
       "      <td>1943</td>\n",
       "      <td>[[0.0, 0.0, 0.0, 0.0, 0.0, 0.0, 0.0, 0.0, 0.0,...</td>\n",
       "    </tr>\n",
       "    <tr>\n",
       "      <th>62965</th>\n",
       "      <td>213110</td>\n",
       "      <td>[[-1.9711, 0.44933, 0.57468, 0.39935, -0.04219...</td>\n",
       "      <td>[0, 0, 0, 0, 0, 0, 0, 0, 0, 0, 1, 0, 0, 0, 0, ...</td>\n",
       "      <td>1987</td>\n",
       "      <td>[[0.0, 0.0, 0.0, 0.0, 0.0, 0.0, 0.0, 0.0, 0.0,...</td>\n",
       "    </tr>\n",
       "    <tr>\n",
       "      <th>62966</th>\n",
       "      <td>213111</td>\n",
       "      <td>[[-1.9711, 0.44933, 0.57468, 0.39935, -0.04219...</td>\n",
       "      <td>[0, 0, 0, 0, 0, 0, 0, 0, 0, 0, 1, 0, 0, 0, 0, ...</td>\n",
       "      <td>1990</td>\n",
       "      <td>[[0.0, 0.0, 0.0, 0.0, 0.0, 0.0, 0.0, 0.0, 0.0,...</td>\n",
       "    </tr>\n",
       "  </tbody>\n",
       "</table>\n",
       "<p>62967 rows × 5 columns</p>\n",
       "</div>"
      ],
      "text/plain": [
       "       movieId                                              title  \\\n",
       "0            1  [[-0.5956, -0.67774, 0.63825, -0.55081, 0.3310...   \n",
       "1            2  [[0.10984, -0.72454, 1.212, -0.16188, -0.77879...   \n",
       "2            3  [[-0.63078, 0.23414, 1.0839, -0.4605, 0.36985,...   \n",
       "3            4  [[-0.94693, 1.202, 0.68523, -0.13582, -0.76029...   \n",
       "4            5  [[-1.2006, 0.59454, 0.27821, 0.86424, 0.021296...   \n",
       "...        ...                                                ...   \n",
       "62962   213101  [[-0.95787, -1.298, 0.021577, 0.48332, 0.71122...   \n",
       "62963   213106  [[-0.95826, 0.34048, 0.51397, -0.22547, -0.069...   \n",
       "62964   213107  [[-0.42776, -0.097852, 0.54833, 0.20915, -0.18...   \n",
       "62965   213110  [[-1.9711, 0.44933, 0.57468, 0.39935, -0.04219...   \n",
       "62966   213111  [[-1.9711, 0.44933, 0.57468, 0.39935, -0.04219...   \n",
       "\n",
       "                                                  genres  year  \\\n",
       "0      [0, 1, 1, 0, 1, 0, 0, 0, 1, 0, 0, 0, 0, 0, 0, ...  1995   \n",
       "1      [0, 1, 0, 0, 0, 0, 0, 0, 1, 0, 0, 0, 0, 0, 0, ...  1995   \n",
       "2      [0, 0, 0, 0, 1, 0, 0, 0, 0, 0, 0, 0, 0, 1, 0, ...  1995   \n",
       "3      [0, 0, 0, 0, 1, 0, 0, 1, 0, 0, 0, 0, 0, 1, 0, ...  1995   \n",
       "4      [0, 0, 0, 0, 1, 0, 0, 0, 0, 0, 0, 0, 0, 0, 0, ...  1995   \n",
       "...                                                  ...   ...   \n",
       "62962  [0, 0, 0, 0, 0, 0, 0, 0, 0, 0, 1, 0, 0, 0, 0, ...  1954   \n",
       "62963  [0, 0, 0, 0, 0, 0, 0, 0, 0, 0, 1, 0, 0, 0, 0, ...  1973   \n",
       "62964  [0, 0, 0, 0, 0, 0, 0, 1, 0, 0, 0, 0, 0, 0, 0, ...  1943   \n",
       "62965  [0, 0, 0, 0, 0, 0, 0, 0, 0, 0, 1, 0, 0, 0, 0, ...  1987   \n",
       "62966  [0, 0, 0, 0, 0, 0, 0, 0, 0, 0, 1, 0, 0, 0, 0, ...  1990   \n",
       "\n",
       "                                                     tag  \n",
       "0      [[-0.16845, 0.39337, 0.24115, -1.2381, 0.06361...  \n",
       "1      [[-0.36034, -0.16173, 0.52871, 0.1684, -1.0275...  \n",
       "2      [[0.42466, -0.23493, 0.67394, -0.51295, 0.6706...  \n",
       "3      [[0.57621, -0.0097165, -0.8488, -0.4566, 0.643...  \n",
       "4      [[-0.86323, -0.13674, -1.2718, 0.67397, 1.0864...  \n",
       "...                                                  ...  \n",
       "62962  [[0.0, 0.0, 0.0, 0.0, 0.0, 0.0, 0.0, 0.0, 0.0,...  \n",
       "62963  [[0.0, 0.0, 0.0, 0.0, 0.0, 0.0, 0.0, 0.0, 0.0,...  \n",
       "62964  [[0.0, 0.0, 0.0, 0.0, 0.0, 0.0, 0.0, 0.0, 0.0,...  \n",
       "62965  [[0.0, 0.0, 0.0, 0.0, 0.0, 0.0, 0.0, 0.0, 0.0,...  \n",
       "62966  [[0.0, 0.0, 0.0, 0.0, 0.0, 0.0, 0.0, 0.0, 0.0,...  \n",
       "\n",
       "[62967 rows x 5 columns]"
      ]
     },
     "execution_count": 13,
     "metadata": {},
     "output_type": "execute_result"
    }
   ],
   "source": [
    "'''\n",
    "Now we can see it is all numbers.\n",
    "'''\n",
    "movies_df = movies_df.reset_index()\n",
    "movies_df"
   ]
  },
  {
   "cell_type": "code",
   "execution_count": null,
   "metadata": {},
   "outputs": [],
   "source": [
    "'''\n",
    "Want to map over all movies rows and turn that into a row in sparse matrix, then save\n",
    "'''\n",
    "sparse_mat_maker.reset((True, lambda x: x == np.inf))\n",
    "movie_ids_series = movies_df.apply(\n",
    "    lambda series: sparse_mat_maker.make_movies_df_row_element_into_sparse_coords(series, quiet=True),\n",
    "    axis=1)\n",
    "sparse_mat_maker.save_sparse_mat_coords(R_Lib.PATH_TO_PROCESSED_MOVIES_DATA)\n",
    "\n",
    "'''\n",
    "Now there are 3 matrices:\n",
    "movies.npz, ratings.npz, users.npz\n",
    "movies.npz and ratings.nps are saved in sparse matrix format while users is not.\n",
    "'''"
   ]
  },
  {
   "cell_type": "code",
   "execution_count": 28,
   "metadata": {},
   "outputs": [],
   "source": [
    "'''\n",
    "Will need to know some of the stuff we have here out in the other files where we load\n",
    "in the matrices, so save that all here to a specs json.\n",
    "'''\n",
    "num_columns_embedded = 2\n",
    "num_cols_one_encoded = 1\n",
    "movie_mat_col_cnt = (\n",
    "    len(movies_df.columns) - num_columns_embedded - num_cols_one_encoded) + (\n",
    "        (num_columns_embedded*(embedded_vector_len*num_of_toks_to_embed)) + R_Lib.MOVIE_LENS_NUM_GENRES)\n",
    "with open(R_Lib.PATH_TO_PROCESSED_DATA_SPECS, \"w\") as out_file:\n",
    "    out_file.write(\n",
    "        json.dumps(\n",
    "            {\n",
    "                R_Lib.SPEC_MOVIE_IDS: movies_df[R_Lib.MOVIE_LENS_25M_MOVIE_ID_COL].to_list(),\n",
    "                R_Lib.SPEC_USER_IDS: users_df[R_Lib.MOVIE_LENS_25M_USER_ID_COL].to_list(),\n",
    "                R_Lib.SPEC_MOVIES_MATRIX_COLUMN_COUNT: movie_mat_col_cnt,\n",
    "                R_Lib.SPEC_NUM_TOKS_EMBEDDED: num_of_toks_to_embed,\n",
    "                R_Lib.SPEC_EMBEDDING_LEN: embedded_vector_len\n",
    "            },\n",
    "            indent=4))"
   ]
  }
 ],
 "metadata": {
  "kernelspec": {
   "display_name": "Python 3.10.6 ('Recommender')",
   "language": "python",
   "name": "python3"
  },
  "language_info": {
   "codemirror_mode": {
    "name": "ipython",
    "version": 3
   },
   "file_extension": ".py",
   "mimetype": "text/x-python",
   "name": "python",
   "nbconvert_exporter": "python",
   "pygments_lexer": "ipython3",
   "version": "3.10.6"
  },
  "orig_nbformat": 4,
  "vscode": {
   "interpreter": {
    "hash": "92d31e0efbf00df1d5e3cd24101558f8c3ad142afb5116f19cea238be2398bab"
   }
  }
 },
 "nbformat": 4,
 "nbformat_minor": 2
}
