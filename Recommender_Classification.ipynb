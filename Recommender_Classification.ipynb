{
 "cells": [
  {
   "cell_type": "code",
   "execution_count": null,
   "metadata": {},
   "outputs": [],
   "source": [
    "%load_ext autoreload\n",
    "%autoreload 2\n",
    "\n",
    "from Recommender_Lib import *\n",
    "\n",
    "import pickle\n",
    "import random\n",
    "import json\n",
    "\n",
    "import pandas as pd\n",
    "import numpy as np"
   ]
  },
  {
   "cell_type": "code",
   "execution_count": 2,
   "metadata": {},
   "outputs": [],
   "source": [
    "'''\n",
    "Read in the raw data so we have access to movie titles, genres\n",
    "force only movie titles to be returned to save space\n",
    "'''\n",
    "movies_df, _, _ = read_raw_data(short_circuit_for_movie_titles=True)"
   ]
  },
  {
   "cell_type": "code",
   "execution_count": 3,
   "metadata": {},
   "outputs": [],
   "source": [
    "'''\n",
    "Define some users and movies they like.\n",
    "The following lists asssume an index to index correspondence.\n",
    "'''\n",
    "user_names = [\"Michael\"]\n",
    "user_genders = [\"M\"]\n",
    "user_ages = [32]\n",
    "user_occupations = [\"programmer\"]\n",
    "user_zipcodes = [87103]\n",
    "# Get the title of a liked movie for input. If do not have one from user, get one at random.\n",
    "movies_liked_by_users = [\n",
    "    [movies_df.iloc[random.randint(0, movies_df.shape[0])][MOVIE_LENS_25M_MOVIE_TITLE_COL]],\n",
    "]\n",
    "\n",
    "'''\n",
    "movies_liked_by_users_idx_lists is a list like:\n",
    "[\n",
    "    user_1\n",
    "    [\n",
    "        [idxs_mapped_to_by_movie_title_1, idxs_mapped_to_by_movie_title_2, ... ],\n",
    "        [idxs_mapped_to_by_movie_title_1, idxs_mapped_to_by_movie_title_2, ... ],\n",
    "        ...\n",
    "    ]\n",
    "    user_2\n",
    "    [\n",
    "        [idxs_mapped_to_by_movie_title_1, idxs_mapped_to_by_movie_title_2, ... ],\n",
    "        [idxs_mapped_to_by_movie_title_1, idxs_mapped_to_by_movie_title_2, ... ],\n",
    "        ...\n",
    "    ]\n",
    "]\n",
    "'''\n",
    "movies_liked_by_users_idx_lists = []\n",
    "for movies in movies_liked_by_users:\n",
    "    idxs_i = []\n",
    "    for title in movies:\n",
    "        idxs_i.append(movie_title_to_mat_idx(title, movies_df))\n",
    "\n",
    "    movies_liked_by_users_idx_lists.append(idxs_i)\n",
    "\n",
    "for i, users_movie_list in enumerate(movies_liked_by_users_idx_lists):\n",
    "    for movie_idxs in users_movie_list:\n",
    "        if len(movie_idxs) == 0:\n",
    "            raise Exception(f\"List {movies_liked_by_users[i]} has a movie in it that is not known by the DB.\")"
   ]
  },
  {
   "cell_type": "code",
   "execution_count": 26,
   "metadata": {},
   "outputs": [],
   "source": [
    "'''\n",
    "Get our giant (~14GB) partitioned, disk-cached, cosine similarity matrix.\n",
    "For cosine similarities, we think the close to 1 sim(m1, m2), the more similair m1 and m2 are and \n",
    "the closer to -1, the more disimilair.\n",
    "\n",
    "First, load in the cosine sim matrix metadata, then make a PartitionedCosineSimMatrix object.\n",
    "'''\n",
    "partition_metadata = json.load(open(PATH_TO_COSINE_SIMS_PARTITION_SPECS))\n",
    "num_partitions = int(partition_metadata[SPEC_PARTITIONS])\n",
    "partition_paths = partition_metadata[SPEC_PARTITION_PATHS]\n",
    "rows_per_partition = int(partition_metadata[SPEC_ROWS_PER_PARTITION])\n",
    "extra_rows_in_last_partition = int(partition_metadata[SPEC_EXTRA_ROWS_IN_LAST_PARTITION])\n",
    "\n",
    "verify_cosine_sims_mat_exists(partition_paths)\n",
    "partitioned_cosine_sim_matrix = PartitionedCosineSimMatrix(\n",
    "    partition_paths, num_partitions, rows_per_partition, extra_rows_in_last_partition)"
   ]
  },
  {
   "cell_type": "code",
   "execution_count": 38,
   "metadata": {},
   "outputs": [
    {
     "name": "stdout",
     "output_type": "stream",
     "text": [
      "For user Michael:\n",
      "\tBased off movie Tammy Tell Me True (1961), we recommend the following similar movies.\n",
      "\t\t Camille 2000 (1969)\n",
      "\t\t Ill-Fated Love (Doomed Love) (Amor de Perdição) (1979)\n",
      "\t\t Bridal Party in Hardanger, The (Brudeferden i Hardanger) (1926)\n",
      "\t\t One Night in the Tropics (1940)\n",
      "\t\t Black Beauty (1946)\n",
      "\t\t Vice Versa (1948)\n",
      "\t\t Upstairs and Downstairs (1959)\n",
      "\t\t Value for Money (1955)\n",
      "\t\t The Virgin and the Gypsy (1970)\n",
      "\t\t Love, Passion and Pleasure (1972)\n",
      "\t\t Monte Cristo (1922)\n",
      "\t\t Woman Buried Alive (1973)\n",
      "\t\t The Blue Angel (1959)\n",
      "\t\t A Rage To Live (1965)\n",
      "\t\t From a Roman Balcony (1960)\n",
      "\t\t Il Giovane Normale (1969)\n",
      "\t\t Barbara (1997)\n",
      "\t\t Manslaughter (1930)\n",
      "\t\t The Bookshop (2017)\n",
      "\t\t Kelly + Victor (2013)\n",
      "\t\t Not Cinderella's Type (2018)\n"
     ]
    }
   ],
   "source": [
    "how_similair = 0.95\n",
    "total_movies = movies_df.shape[0]\n",
    "for i, user_movie_list in enumerate(movies_liked_by_users_idx_lists):\n",
    "    print(f\"For user {user_names[i]}:\")\n",
    "    for movie_idxs in user_movie_list:\n",
    "        for movie_idx in movie_idxs:\n",
    "            similar_to_i = partitioned_cosine_sim_matrix.get_similar_movie_idxs(\n",
    "                movie_idx,\n",
    "                how_similair)\n",
    "            movie_i = movies_df.iloc[movie_idx][MOVIE_LENS_25M_MOVIE_TITLE_COL]\n",
    "            if len(similar_to_i) > 0:\n",
    "                sim_movie_titles = movies_df.iloc[similar_to_i][MOVIE_LENS_25M_MOVIE_TITLE_COL].to_list()\n",
    "                sim_movie_titles.remove(movie_i)\n",
    "                print(\n",
    "                    f\"\\tBased off movie {movie_i}, we recommend the following similar movies.\\n\\t\\t\",\n",
    "                    \"\\n\\t\\t \".join(sim_movie_titles))\n",
    "            else:\n",
    "                print(\"\\tNo matches found for\", movie_i)"
   ]
  },
  {
   "cell_type": "code",
   "execution_count": 4,
   "metadata": {},
   "outputs": [],
   "source": [
    "'''\n",
    "Now, lets recommend some movies based off what movies are liked by those who like what the given users like\n",
    "using the ratings matrix. Also, need the clusters below, + need the number of users now from the clusters\n",
    "model, so make it now too.\n",
    "'''\n",
    "users_clustering = pickle.load(open(PATH_TO_USER_KMEANS_MODEL, \"rb\"))\n",
    "ratings_matrix_mgr = RatingsMatrixManager(\n",
    "    PATH_TO_PROCESSED_RATINGS_DATA,\n",
    "    movies_df[MOVIE_LENS_25M_MOVIE_TITLE_COL],\n",
    "    len(users_clustering.labels_))"
   ]
  },
  {
   "cell_type": "code",
   "execution_count": 36,
   "metadata": {},
   "outputs": [
    {
     "name": "stdout",
     "output_type": "stream",
     "text": [
      "For user Michael:\n",
      "\tUsers who like Tammy Tell Me True (1961) also like the following movies.\n",
      "\t\t Jumanji (1995)\n",
      "\t\t Father of the Bride Part II (1995)\n",
      "\t\t Only You (1994)\n",
      "\t\t American President, The (1995)\n",
      "\t\t Mrs. Doubtfire (1993)\n",
      "\t\t Sense and Sensibility (1995)\n",
      "\t\t Rudy (1993)\n",
      "\t\t Clueless (1995)\n",
      "\t\t Schindler's List (1993)\n",
      "\t\t Forrest Gump (1994)\n",
      "\t\t Secret Garden, The (1993)\n",
      "\t\t Bridges of Madison County, The (1995)\n",
      "\t\t Apollo 13 (1995)\n",
      "\t\t Sleepless in Seattle (1993)\n",
      "\t\t Three Musketeers, The (1993)\n",
      "\t\t Walk in the Clouds, A (1995)\n",
      "\t\t Much Ado About Nothing (1993)\n",
      "\t\t Little Women (1994)\n",
      "\t\t Little Princess, A (1995)\n",
      "\t\t Legends of the Fall (1994)\n"
     ]
    }
   ],
   "source": [
    "number_of_movies_to_recommend = 20\n",
    "for i, user_movie_list in enumerate(movies_liked_by_users_idx_lists):\n",
    "    print(f\"For user {user_names[i]}:\")\n",
    "    for movie_idxs in user_movie_list:\n",
    "        for movie_idx in movie_idxs:\n",
    "            movies_liked_by_those_who_like_what_user_likes = ratings_matrix_mgr.find_movies_liked_by_users_that_like_movie(\n",
    "                movie_idx,\n",
    "                number_of_movies_to_recommend)\n",
    "            movie_i = movies_df.iloc[movie_idx][MOVIE_LENS_25M_MOVIE_TITLE_COL]\n",
    "            if len(movies_liked_by_those_who_like_what_user_likes) > 0:\n",
    "                print(\n",
    "                    f\"\\tUsers who like {movie_i} also like the following movies.\\r\\n\\t\\t\",\n",
    "                    \"\\n\\t\\t \".join(movies_liked_by_those_who_like_what_user_likes))\n",
    "            else:\n",
    "                print(\"No one else liked\", movie_i)"
   ]
  },
  {
   "cell_type": "code",
   "execution_count": 13,
   "metadata": {},
   "outputs": [],
   "source": [
    "'''\n",
    "Now, can embed info about a user, then use it to find users similar with the kmeans cluster.\n",
    "Then, look at what those users rated high, and recommend some of them.\n",
    "First get the user embedding specs.\n",
    "'''\n",
    "user_embedding_specs = json.load(open(PATH_TO_USER_EMBEDDING_SPECS))\n",
    "unique_vocab = list(map(int, user_embedding_specs[SPEC_UNIQUE_VOCAB]))\n",
    "output_dim = int(user_embedding_specs[SPEC_OUTPUT_DIM])\n",
    "zipcode_len = int(user_embedding_specs[SPEC_ZIPCODE_LEN])\n",
    "male_female_encoder = user_embedding_specs[SPEC_MALE_FEMALE]"
   ]
  },
  {
   "cell_type": "code",
   "execution_count": 14,
   "metadata": {},
   "outputs": [
    {
     "data": {
      "text/html": [
       "<div>\n",
       "<style scoped>\n",
       "    .dataframe tbody tr th:only-of-type {\n",
       "        vertical-align: middle;\n",
       "    }\n",
       "\n",
       "    .dataframe tbody tr th {\n",
       "        vertical-align: top;\n",
       "    }\n",
       "\n",
       "    .dataframe thead th {\n",
       "        text-align: right;\n",
       "    }\n",
       "</style>\n",
       "<table border=\"1\" class=\"dataframe\">\n",
       "  <thead>\n",
       "    <tr style=\"text-align: right;\">\n",
       "      <th></th>\n",
       "      <th>0</th>\n",
       "      <th>1</th>\n",
       "      <th>2</th>\n",
       "      <th>3</th>\n",
       "    </tr>\n",
       "  </thead>\n",
       "  <tbody>\n",
       "    <tr>\n",
       "      <th>0</th>\n",
       "      <td>21</td>\n",
       "      <td>25</td>\n",
       "      <td>12</td>\n",
       "      <td>87103</td>\n",
       "    </tr>\n",
       "  </tbody>\n",
       "</table>\n",
       "</div>"
      ],
      "text/plain": [
       "    0   1   2      3\n",
       "0  21  25  12  87103"
      ]
     },
     "execution_count": 14,
     "metadata": {},
     "output_type": "execute_result"
    }
   ],
   "source": [
    "encoded_user_genders = list(map(lambda g: encode_genders(g, male_female_encoder), user_genders))\n",
    "encoded_user_ages = list(map(encode_age, user_ages))\n",
    "encoded_user_occupations = list(map(encode_occupation, user_occupations))\n",
    "encoded_user_df = pd.DataFrame({\n",
    "    0: encoded_user_genders, 1: encoded_user_ages, 2: encoded_user_occupations, 3: user_zipcodes})\n",
    "encoded_user_df"
   ]
  },
  {
   "cell_type": "code",
   "execution_count": null,
   "metadata": {},
   "outputs": [],
   "source": [
    "'''\n",
    "Now embed them like our clustering expects them to be (or, as close as we can get, at least)\n",
    "'''\n",
    "unique_vocab, users_embedding = embed_users(\n",
    "    encoded_user_df,\n",
    "    zipcode_len,\n",
    "    output_dim,\n",
    "    encoded_user_df.shape[1],\n",
    "    unique_vocab)"
   ]
  },
  {
   "cell_type": "code",
   "execution_count": 16,
   "metadata": {},
   "outputs": [],
   "source": [
    "'''\n",
    "Classify these users\n",
    "'''\n",
    "user_labels = users_clustering.predict(users_embedding)"
   ]
  },
  {
   "cell_type": "code",
   "execution_count": 37,
   "metadata": {},
   "outputs": [
    {
     "name": "stdout",
     "output_type": "stream",
     "text": [
      "Users most like Michael like the following movies the most.\n",
      "\t\t Raiders of the Lost Ark (1981)\n",
      "\t\t Twelve Monkeys (1995)\n",
      "\t\t Fistful of Dollars, A (1964)\n",
      "\t\t Seven Samurai (The Magnificent Seven) (Shichinin no samurai) (1954)\n",
      "\t\t Good, The Bad and The Ugly, The (1966)\n",
      "\t\t Robocop (1987)\n",
      "\t\t Star Trek: The Wrath of Khan (1982)\n",
      "\t\t Ghostbusters (1984)\n",
      "\t\t Mad Max 2 (a.k.a. The Road Warrior) (1981)\n",
      "\t\t Men in Black (1997)\n",
      "\t\t Dr. Strangelove or: How I Learned to Stop Worrying and Love the Bomb (1963)\n",
      "\t\t As Good As It Gets (1997)\n",
      "\t\t Wrong Trousers, The (1993)\n",
      "\t\t Willy Wonka and the Chocolate Factory (1971)\n",
      "\t\t GoodFellas (1990)\n",
      "\t\t Monty Python and the Holy Grail (1974)\n",
      "\t\t Boat, The (Das Boot) (1981)\n",
      "\t\t M*A*S*H (1970)\n",
      "\t\t Independence Day (ID4) (1996)\n",
      "\t\t Nikita (La Femme Nikita) (1990)\n"
     ]
    }
   ],
   "source": [
    "'''\n",
    "Make some recommendations based off users most like the given users.\n",
    "'''\n",
    "number_of_movies_to_recommend = 20\n",
    "for i, user_i in enumerate(user_names):\n",
    "    matching_user_idxs = np.nonzero(users_clustering.labels_ == user_labels[i])[0]\n",
    "    if len(matching_user_idxs) == 0:\n",
    "        print(user_i, \"is unlike any user.\") # this is probably an error case\n",
    "    else:\n",
    "        # check the ratings matrix for some of the matching users and see what they\n",
    "        # like, and recommend the movies that are most liked amongst them all\n",
    "        most_liked_by_alikes = ratings_matrix_mgr.find_movies_liked_by_alike_users(\n",
    "            matching_user_idxs,\n",
    "            number_of_movies_to_recommend)\n",
    "        print(\n",
    "            f\"Users most like {user_i} like the following movies the most.\\n\\t\\t\",\n",
    "            \"\\n\\t\\t \".join(most_liked_by_alikes))"
   ]
  }
 ],
 "metadata": {
  "kernelspec": {
   "display_name": "Python 3.10.6 ('Recommender')",
   "language": "python",
   "name": "python3"
  },
  "language_info": {
   "codemirror_mode": {
    "name": "ipython",
    "version": 3
   },
   "file_extension": ".py",
   "mimetype": "text/x-python",
   "name": "python",
   "nbconvert_exporter": "python",
   "pygments_lexer": "ipython3",
   "version": "3.10.6"
  },
  "orig_nbformat": 4,
  "vscode": {
   "interpreter": {
    "hash": "92d31e0efbf00df1d5e3cd24101558f8c3ad142afb5116f19cea238be2398bab"
   }
  }
 },
 "nbformat": 4,
 "nbformat_minor": 2
}
