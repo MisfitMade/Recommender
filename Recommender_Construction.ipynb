{
 "cells": [
  {
   "cell_type": "code",
   "execution_count": 1,
   "metadata": {},
   "outputs": [],
   "source": [
    "%load_ext autoreload\n",
    "%autoreload 2\n",
    "\n",
    "from Recommender_Lib import *\n",
    "\n",
    "import json\n",
    "import numpy as np\n",
    "from scipy.sparse import csr_matrix, csc_matrix"
   ]
  },
  {
   "cell_type": "code",
   "execution_count": 6,
   "metadata": {},
   "outputs": [],
   "source": [
    "processed_data_specs = json.load(open(PATH_TO_PROCESSED_DATA_SPECS))\n",
    "movie_ids = processed_data_specs[SPEC_MOVIE_IDS]\n",
    "user_ids = processed_data_specs[SPEC_USER_IDS]\n",
    "movie_matrix_col_count = processed_data_specs[SPEC_MOVIES_MATRIX_COLUMN_COUNT]\n",
    "total_users = len(user_ids)\n",
    "total_movies = len(movie_ids)\n",
    "\n",
    "users_matrix = np.load(PATH_TO_PROCESSED_USERS_DATA)[USERS_MATRIX]\n",
    "\n",
    "movies_data = np.load(PATH_TO_PROCESSED_MOVIES_DATA)\n",
    "sparse_movies_coords = movies_data[SPARSE_COORDS_TAG]\n",
    "sparse_movies_matrix = csr_matrix(\n",
    "    (movies_data[SPARSE_DATA_TAG], (sparse_movies_coords[0], sparse_movies_coords[1])),\n",
    "    shape=(total_movies, movie_matrix_col_count))\n",
    "\n",
    "ratings_data = np.load(PATH_TO_PROCESSED_RATINGS_DATA)\n",
    "sparse_ratings_coords = ratings_data[SPARSE_COORDS_TAG]\n",
    "sparse_ratings_matrix = csr_matrix(\n",
    "    (ratings_data[SPARSE_DATA_TAG], (sparse_ratings_coords[0], sparse_ratings_coords[1])),\n",
    "    dtype=np.float16,\n",
    "    shape=(total_users, total_movies))"
   ]
  },
  {
   "cell_type": "code",
   "execution_count": null,
   "metadata": {},
   "outputs": [],
   "source": []
  }
 ],
 "metadata": {
  "kernelspec": {
   "display_name": "Python 3.10.6 ('Recommender')",
   "language": "python",
   "name": "python3"
  },
  "language_info": {
   "codemirror_mode": {
    "name": "ipython",
    "version": 3
   },
   "file_extension": ".py",
   "mimetype": "text/x-python",
   "name": "python",
   "nbconvert_exporter": "python",
   "pygments_lexer": "ipython3",
   "version": "3.10.6"
  },
  "orig_nbformat": 4,
  "vscode": {
   "interpreter": {
    "hash": "92d31e0efbf00df1d5e3cd24101558f8c3ad142afb5116f19cea238be2398bab"
   }
  }
 },
 "nbformat": 4,
 "nbformat_minor": 2
}
